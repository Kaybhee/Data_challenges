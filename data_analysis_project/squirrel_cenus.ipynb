{
 "cells": [
  {
   "cell_type": "code",
   "execution_count": 11,
   "metadata": {},
   "outputs": [],
   "source": [
    "import pandas as pd\n",
    "data = pd.read_csv(r\"C:\\Users\\Badru\\Videos\\100_days_of_code-1\\data_analysis_project\\228 2018-Central-Park-Squirrel-Census-Squirrel-Data.csv\")\n",
    "black_squirrel = data[data[\"Primary Fur Color\"] == \"Black\"].count()\n",
    "# print(data_s[\"Primary Fur Color\"])\n",
    "grey_squirrel = data[data[\"Primary Fur Color\"] == \"Gray\"].count()\n",
    "cinnamon_squirrel = data[data[\"Primary Fur Color\"] == \"Cinnamon\"].count()\n",
    "black_squirrel_color = black_squirrel[\"Primary Fur Color\"]\n",
    "grey_squirrel_color = grey_squirrel[\"Primary Fur Color\"]\n",
    "cinnamon_squirrel_color = cinnamon_squirrel[\"Primary Fur Color\"]"
   ]
  },
  {
   "cell_type": "code",
   "execution_count": 14,
   "metadata": {},
   "outputs": [
    {
     "name": "stdout",
     "output_type": "stream",
     "text": [
      "  Fur Color  Count\n",
      "0     Black    103\n",
      "1      Gray   2473\n",
      "2  Cinnamon    392\n"
     ]
    }
   ],
   "source": [
    "data_dic = {\n",
    "    \"Fur Color\" : [\"Black\", \"Gray\", \"Cinnamon\"],\n",
    "    \"Count\" : [black_squirrel_color, grey_squirrel_color, cinnamon_squirrel_color]\n",
    "}\n",
    "data_frame = pd.DataFrame(data_dic)\n",
    "print(data_frame)"
   ]
  }
 ],
 "metadata": {
  "kernelspec": {
   "display_name": "base",
   "language": "python",
   "name": "python3"
  },
  "language_info": {
   "codemirror_mode": {
    "name": "ipython",
    "version": 3
   },
   "file_extension": ".py",
   "mimetype": "text/x-python",
   "name": "python",
   "nbconvert_exporter": "python",
   "pygments_lexer": "ipython3",
   "version": "3.10.9"
  },
  "orig_nbformat": 4
 },
 "nbformat": 4,
 "nbformat_minor": 2
}

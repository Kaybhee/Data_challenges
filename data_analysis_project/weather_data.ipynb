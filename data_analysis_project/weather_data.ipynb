{
 "cells": [
  {
   "cell_type": "code",
   "execution_count": 3,
   "metadata": {},
   "outputs": [
    {
     "name": "stdout",
     "output_type": "stream",
     "text": [
      "17.43\n"
     ]
    }
   ],
   "source": [
    "import pandas as pd\n",
    "df = pd.read_csv(r\"C:\\Users\\intern2\\Videos\\data_analysis_project\\226 weather-data.csv\")\n",
    "data = df.temp\n",
    "average = round(sum(data) / len(data), 2)\n",
    "print(average)"
   ]
  },
  {
   "cell_type": "code",
   "execution_count": 5,
   "metadata": {},
   "outputs": [
    {
     "name": "stdout",
     "output_type": "stream",
     "text": [
      "0    Sunny\n",
      "Name: condition, dtype: object\n",
      "12\n",
      "53.6\n"
     ]
    }
   ],
   "source": [
    "# df[df.temp == max(df.temp)]\n",
    "day = df[df.day == \"Monday\"]\n",
    "print(day.condition)\n",
    "day_c = int(day[\"temp\"])\n",
    "print(day_c)\n",
    "day_f = (9/5 * day_c) + 32\n",
    "\n",
    "print(day_f)\n"
   ]
  },
  {
   "cell_type": "code",
   "execution_count": 8,
   "metadata": {},
   "outputs": [
    {
     "name": "stdout",
     "output_type": "stream",
     "text": [
      "{'name': ['seni', 'kora', 'ade', 'olu'], 'key': ['app', 'web', 'bus', 'maint']}\n",
      "   name    key\n",
      "0  seni    app\n",
      "1  kora    web\n",
      "2   ade    bus\n",
      "3   olu  maint\n"
     ]
    }
   ],
   "source": [
    "data_dict = {\"name\" : [\"seni\", \"kora\", \"ade\", \"olu\"],\n",
    "\"key\": [\"app\", \"web\", \"bus\", \"maint\"]}\n",
    "print(data_dict)\n",
    "table = pd.DataFrame(data_dict)\n",
    "print(table)"
   ]
  },
  {
   "cell_type": "code",
   "execution_count": null,
   "metadata": {},
   "outputs": [],
   "source": []
  }
 ],
 "metadata": {
  "kernelspec": {
   "display_name": "base",
   "language": "python",
   "name": "python3"
  },
  "language_info": {
   "codemirror_mode": {
    "name": "ipython",
    "version": 3
   },
   "file_extension": ".py",
   "mimetype": "text/x-python",
   "name": "python",
   "nbconvert_exporter": "python",
   "pygments_lexer": "ipython3",
   "version": "3.10.9"
  },
  "orig_nbformat": 4
 },
 "nbformat": 4,
 "nbformat_minor": 2
}
